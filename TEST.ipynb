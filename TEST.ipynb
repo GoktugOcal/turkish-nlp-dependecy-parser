{
 "cells": [
  {
   "cell_type": "code",
   "execution_count": 8,
   "id": "b92775f1",
   "metadata": {},
   "outputs": [],
   "source": [
    "import numpy as np\n",
    "import pandas as pd\n",
    "import conllu\n",
    "import zeyrek\n",
    "import nltk\n",
    "from tqdm import tqdm\n",
    "\n",
    "from tr_dependency_parser.tr_parser import TurkishCKYParser\n",
    "\n",
    "DEBUG = True\n",
    "filename = \"tr_dependency_parser/grammar/grammar_all.txt\"\n",
    "parser = TurkishCKYParser(filename, DEBUG = DEBUG)"
   ]
  },
  {
   "cell_type": "code",
   "execution_count": 11,
   "id": "a391bfa5",
   "metadata": {},
   "outputs": [],
   "source": [
    "text = '''\n",
    "Dün arkadaşıma bir hediye aldım\n",
    "Tarihi romanları keyifle okuyorum\n",
    "Ben dün akşam yemeği için anneme yardım ettim\n",
    "Destanlar milli kültürümüzü ve tarihimizi anlatır\n",
    "Yaz meyvelerinden karpuz bence en güzel meyvedir\n",
    "Bu akşamki toplantıya katılacak mısınız\n",
    "Bu ağacın altında her gece mehtabı izlerdik\n",
    "Siz buraya en son ne zaman geldiniz\n",
    "Okul bizim köye epeyce uzaktaydı\n",
    "Yüksek sesle müzik dinleme\n",
    "'''\n",
    "\n",
    "org_tokens = nltk.tokenize.word_tokenize(text)"
   ]
  },
  {
   "cell_type": "code",
   "execution_count": 19,
   "id": "99c977d7",
   "metadata": {},
   "outputs": [],
   "source": [
    "poses = {}\n",
    "for token in org_tokens:\n",
    "    for node in parser.get_pos(token.lower()):\n",
    "        if node.tag in poses.keys(): poses[node.tag].append(token.lower())\n",
    "        else: poses[node.tag] = [token.lower()]"
   ]
  },
  {
   "cell_type": "code",
   "execution_count": 20,
   "id": "7b855f73",
   "metadata": {},
   "outputs": [
    {
     "data": {
      "text/plain": [
       "{'PASTNOUN': ['dün', 'dün'],\n",
       " 'NP': ['arkadaşıma',\n",
       "  'hediye',\n",
       "  'tarihi',\n",
       "  'romanları',\n",
       "  'akşam',\n",
       "  'yemeği',\n",
       "  'anneme',\n",
       "  'yardım',\n",
       "  'destanlar',\n",
       "  'milli',\n",
       "  'kültürümüzü',\n",
       "  'tarihimizi',\n",
       "  'yaz',\n",
       "  'meyvelerinden',\n",
       "  'karpuz',\n",
       "  'bence',\n",
       "  'en',\n",
       "  'güzel',\n",
       "  'toplantıya',\n",
       "  'ağacın',\n",
       "  'altında',\n",
       "  'gece',\n",
       "  'mehtabı',\n",
       "  'buraya',\n",
       "  'en',\n",
       "  'son',\n",
       "  'zaman',\n",
       "  'okul',\n",
       "  'köye',\n",
       "  'yüksek',\n",
       "  'sesle',\n",
       "  'müzik',\n",
       "  'dinleme'],\n",
       " 'ADV': ['bir', 'keyifle', 'bence', 'en', 'güzel', 'gece', 'en', 'epeyce'],\n",
       " 'DET': ['bir', 'her'],\n",
       " 'ADJ': ['bir',\n",
       "  'tarihi',\n",
       "  'milli',\n",
       "  'anlatır',\n",
       "  'güzel',\n",
       "  'akşamki',\n",
       "  'katılacak',\n",
       "  'her',\n",
       "  'son',\n",
       "  'yüksek'],\n",
       " 'NUM': ['bir', 'son'],\n",
       " 'VPPAST1': ['aldım', 'yardım', 'ettim'],\n",
       " 'VPPRE1': ['okuyorum'],\n",
       " 'PRO1': ['ben'],\n",
       " 'POSTP': ['için'],\n",
       " 'CONJ': ['ve'],\n",
       " 'VPIMP': ['yaz', 'sesle', 'dinleme'],\n",
       " 'PRO3': ['bu', 'bu'],\n",
       " 'QUES': ['mısınız'],\n",
       " 'VPPAST1PL': ['izlerdik'],\n",
       " 'PROPL2': ['siz'],\n",
       " 'Q': ['ne'],\n",
       " 'VPPAST2PL': ['geldiniz'],\n",
       " 'PRO': ['bizim'],\n",
       " 'VPPAST3': ['uzaktaydı']}"
      ]
     },
     "execution_count": 20,
     "metadata": {},
     "output_type": "execute_result"
    }
   ],
   "source": [
    "poses"
   ]
  },
  {
   "cell_type": "code",
   "execution_count": null,
   "id": "c5f14beb",
   "metadata": {},
   "outputs": [],
   "source": []
  }
 ],
 "metadata": {
  "kernelspec": {
   "display_name": "Python 3 (ipykernel)",
   "language": "python",
   "name": "python3"
  },
  "language_info": {
   "codemirror_mode": {
    "name": "ipython",
    "version": 3
   },
   "file_extension": ".py",
   "mimetype": "text/x-python",
   "name": "python",
   "nbconvert_exporter": "python",
   "pygments_lexer": "ipython3",
   "version": "3.10.6"
  }
 },
 "nbformat": 4,
 "nbformat_minor": 5
}
