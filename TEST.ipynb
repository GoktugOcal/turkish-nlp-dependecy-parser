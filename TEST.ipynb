{
 "cells": [
  {
   "cell_type": "code",
   "execution_count": 1,
   "id": "b92775f1",
   "metadata": {},
   "outputs": [],
   "source": [
    "import numpy as np\n",
    "import pandas as pd\n",
    "import conllu\n",
    "import zeyrek\n",
    "import nltk\n",
    "from tqdm import tqdm\n",
    "\n",
    "from tr_dependency_parser.tr_parser import TurkishCKYParser\n",
    "from tr_dependency_parser.tools.helper import *\n",
    "from tr_dependency_parser.tools.visualizer import parse_visualizer\n",
    "\n",
    "import spacy\n",
    "from spacy import displacy\n",
    "\n",
    "DEBUG = True\n",
    "filename = \"tr_dependency_parser/grammar/grammar.txt\"\n",
    "parser = TurkishCKYParser(filename, DEBUG = DEBUG)"
   ]
  },
  {
   "cell_type": "code",
   "execution_count": 2,
   "id": "2fb4d58c",
   "metadata": {},
   "outputs": [
    {
     "name": "stdout",
     "output_type": "stream",
     "text": [
      "Tokens : ['ben', 'okula', 'geldim']\n",
      "POS Tags : [['PRO1'], ['DAT'], ['VPPAST1']]\n",
      "Sentence is grammatically correct.\n",
      "[_S[_PRO1 ben ][_VPPAST1[_DAT okula ][_VPPAST1 geldim ]]]\n",
      "203.25967199999997\n",
      "\n",
      "######### CKY CHART #########\n",
      "--------  -------  -----------\n",
      "ben       okula    geldim\n",
      "['PRO1']  []       ['S']\n",
      "[]        ['DAT']  ['VPPAST1']\n",
      "[]        []       ['VPPAST1']\n",
      "--------  -------  -----------\n",
      "##### BEST SENTENCE STRUCTURE #####\n",
      "[_S[_PRO1 ben ][_VPPAST1[_DAT okula ][_VPPAST1 geldim ]]]\n",
      "\n"
     ]
    }
   ],
   "source": [
    "sentence = \"Ben okula geldim.\"\n",
    "sentence = preprocess(sentence)\n",
    "parser.parse(sentence)\n",
    "parser.show_cky_chart()\n",
    "print(\"##### BEST SENTENCE STRUCTURE #####\")\n",
    "parser.show_sentence_structure()\n",
    "print()"
   ]
  },
  {
   "cell_type": "code",
   "execution_count": 3,
   "id": "ed772f32",
   "metadata": {},
   "outputs": [
    {
     "data": {
      "text/plain": [
       "['ben', 'okula', 'geldim']"
      ]
     },
     "execution_count": 3,
     "metadata": {},
     "output_type": "execute_result"
    }
   ],
   "source": [
    "terminals = parser.get_terminal_nodes(parser.get_tree())\n",
    "[terminal.text for terminal in terminals]"
   ]
  },
  {
   "cell_type": "code",
   "execution_count": 4,
   "id": "75099924",
   "metadata": {},
   "outputs": [
    {
     "data": {
      "text/html": [
       "<span class=\"tex2jax_ignore\"><div class=\"entities\" style=\"line-height: 2.5; direction: ltr\">\n",
       "<mark class=\"entity\" style=\"background: palevioletred; padding: 0.45em 0.6em; margin: 0 0.25em; line-height: 1; border-radius: 0.35em;\">\n",
       "    ben\n",
       "    <span style=\"font-size: 0.8em; font-weight: bold; line-height: 1; border-radius: 0.35em; vertical-align: middle; margin-left: 0.5rem\">PRO1</span>\n",
       "</mark>\n",
       " \n",
       "<mark class=\"entity\" style=\"background: limegreen; padding: 0.45em 0.6em; margin: 0 0.25em; line-height: 1; border-radius: 0.35em;\">\n",
       "    okula\n",
       "    <span style=\"font-size: 0.8em; font-weight: bold; line-height: 1; border-radius: 0.35em; vertical-align: middle; margin-left: 0.5rem\">DAT</span>\n",
       "</mark>\n",
       " \n",
       "<mark class=\"entity\" style=\"background: lightpink; padding: 0.45em 0.6em; margin: 0 0.25em; line-height: 1; border-radius: 0.35em;\">\n",
       "    geldim\n",
       "    <span style=\"font-size: 0.8em; font-weight: bold; line-height: 1; border-radius: 0.35em; vertical-align: middle; margin-left: 0.5rem\">VPPAST1</span>\n",
       "</mark>\n",
       "</div></span>"
      ],
      "text/plain": [
       "<IPython.core.display.HTML object>"
      ]
     },
     "metadata": {},
     "output_type": "display_data"
    }
   ],
   "source": [
    "visualizer = parse_visualizer()\n",
    "visualizer.pos_vis(sentence, terminals)"
   ]
  },
  {
   "cell_type": "code",
   "execution_count": 5,
   "id": "d865ed36",
   "metadata": {},
   "outputs": [
    {
     "data": {
      "text/html": [
       "<span class=\"tex2jax_ignore\"><div class=\"spans\" style=\"line-height: 2.5; direction: ltr\">\n",
       "<span style=\"font-weight: bold; display: inline-block; position: relative; height: 77px;\">\n",
       "    ben\n",
       "    \n",
       "<span style=\"background: tomato; top: 40px; height: 4px; left: -1px; width: calc(100% + 2px); position: absolute;\">\n",
       "</span>\n",
       "\n",
       "<span style=\"background: palevioletred; top: 57px; height: 4px; left: -1px; width: calc(100% + 2px); position: absolute;\">\n",
       "</span>\n",
       "\n",
       "    \n",
       "<span style=\"background: tomato; top: 40px; height: 4px; border-top-left-radius: 3px; border-bottom-left-radius: 3px; left: -1px; width: calc(100% + 2px); position: absolute;\">\n",
       "    <span style=\"background: tomato; z-index: 10; color: #000; top: -0.5em; padding: 2px 3px; position: absolute; font-size: 0.6em; font-weight: bold; line-height: 1; border-radius: 3px\">\n",
       "        S\n",
       "    </span>\n",
       "</span>\n",
       "\n",
       "\n",
       "<span style=\"background: palevioletred; top: 57px; height: 4px; border-top-left-radius: 3px; border-bottom-left-radius: 3px; left: -1px; width: calc(100% + 2px); position: absolute;\">\n",
       "    <span style=\"background: palevioletred; z-index: 10; color: #000; top: -0.5em; padding: 2px 3px; position: absolute; font-size: 0.6em; font-weight: bold; line-height: 1; border-radius: 3px\">\n",
       "        PRO1\n",
       "    </span>\n",
       "</span>\n",
       "\n",
       "\n",
       "</span>\n",
       "\n",
       "<span style=\"font-weight: bold; display: inline-block; position: relative; height: 94px;\">\n",
       "    okula\n",
       "    \n",
       "<span style=\"background: tomato; top: 40px; height: 4px; left: -1px; width: calc(100% + 2px); position: absolute;\">\n",
       "</span>\n",
       "\n",
       "<span style=\"background: lightpink; top: 57px; height: 4px; left: -1px; width: calc(100% + 2px); position: absolute;\">\n",
       "</span>\n",
       "\n",
       "<span style=\"background: limegreen; top: 74px; height: 4px; left: -1px; width: calc(100% + 2px); position: absolute;\">\n",
       "</span>\n",
       "\n",
       "    \n",
       "<span style=\"background: lightpink; top: 57px; height: 4px; border-top-left-radius: 3px; border-bottom-left-radius: 3px; left: -1px; width: calc(100% + 2px); position: absolute;\">\n",
       "    <span style=\"background: lightpink; z-index: 10; color: #000; top: -0.5em; padding: 2px 3px; position: absolute; font-size: 0.6em; font-weight: bold; line-height: 1; border-radius: 3px\">\n",
       "        VPPAST1\n",
       "    </span>\n",
       "</span>\n",
       "\n",
       "\n",
       "<span style=\"background: limegreen; top: 74px; height: 4px; border-top-left-radius: 3px; border-bottom-left-radius: 3px; left: -1px; width: calc(100% + 2px); position: absolute;\">\n",
       "    <span style=\"background: limegreen; z-index: 10; color: #000; top: -0.5em; padding: 2px 3px; position: absolute; font-size: 0.6em; font-weight: bold; line-height: 1; border-radius: 3px\">\n",
       "        DAT\n",
       "    </span>\n",
       "</span>\n",
       "\n",
       "\n",
       "</span>\n",
       "\n",
       "<span style=\"font-weight: bold; display: inline-block; position: relative; height: 94px;\">\n",
       "    geldim\n",
       "    \n",
       "<span style=\"background: tomato; top: 40px; height: 4px; left: -1px; width: calc(100% + 2px); position: absolute;\">\n",
       "</span>\n",
       "\n",
       "<span style=\"background: lightpink; top: 57px; height: 4px; left: -1px; width: calc(100% + 2px); position: absolute;\">\n",
       "</span>\n",
       "\n",
       "<span style=\"background: lightpink; top: 74px; height: 4px; left: -1px; width: calc(100% + 2px); position: absolute;\">\n",
       "</span>\n",
       "\n",
       "    \n",
       "<span style=\"background: lightpink; top: 74px; height: 4px; border-top-left-radius: 3px; border-bottom-left-radius: 3px; left: -1px; width: calc(100% + 2px); position: absolute;\">\n",
       "    <span style=\"background: lightpink; z-index: 10; color: #000; top: -0.5em; padding: 2px 3px; position: absolute; font-size: 0.6em; font-weight: bold; line-height: 1; border-radius: 3px\">\n",
       "        VPPAST1\n",
       "    </span>\n",
       "</span>\n",
       "\n",
       "\n",
       "</span>\n",
       "</div></span>"
      ],
      "text/plain": [
       "<IPython.core.display.HTML object>"
      ]
     },
     "metadata": {},
     "output_type": "display_data"
    }
   ],
   "source": [
    "visualizer.pos_tree_vis(sentence, parser.tokens, parser.get_tree())"
   ]
  },
  {
   "cell_type": "code",
   "execution_count": 23,
   "id": "64c4440a",
   "metadata": {},
   "outputs": [
    {
     "data": {
      "text/plain": [
       "4"
      ]
     },
     "execution_count": 23,
     "metadata": {},
     "output_type": "execute_result"
    }
   ],
   "source": [
    "from nltk.tree import Tree\n",
    "from nltk.draw.tree import TreeView\n",
    "import os\n",
    "t = Tree.fromstring(tree_format(parser.get_tree()).replace(\"[_\",\" (\").replace(\"]\",\")\").strip())\n",
    "TreeView(t)._cframe.print_to_file('output.ps')\n",
    "os.system('convert output.ps output.png')"
   ]
  },
  {
   "cell_type": "code",
   "execution_count": 22,
   "id": "94857311",
   "metadata": {},
   "outputs": [
    {
     "ename": "OSError",
     "evalue": "Unable to locate Ghostscript on paths",
     "output_type": "error",
     "traceback": [
      "\u001b[1;31m---------------------------------------------------------------------------\u001b[0m",
      "\u001b[1;31mOSError\u001b[0m                                   Traceback (most recent call last)",
      "Cell \u001b[1;32mIn [22], line 4\u001b[0m\n\u001b[0;32m      1\u001b[0m \u001b[38;5;28;01mfrom\u001b[39;00m \u001b[38;5;21;01mPIL\u001b[39;00m \u001b[38;5;28;01mimport\u001b[39;00m Image\n\u001b[0;32m      3\u001b[0m psimage\u001b[38;5;241m=\u001b[39mImage\u001b[38;5;241m.\u001b[39mopen(\u001b[38;5;124m'\u001b[39m\u001b[38;5;124moutput.ps\u001b[39m\u001b[38;5;124m'\u001b[39m)\n\u001b[1;32m----> 4\u001b[0m \u001b[43mpsimage\u001b[49m\u001b[38;5;241;43m.\u001b[39;49m\u001b[43msave\u001b[49m\u001b[43m(\u001b[49m\u001b[38;5;124;43m'\u001b[39;49m\u001b[38;5;124;43m/output.png\u001b[39;49m\u001b[38;5;124;43m'\u001b[39;49m\u001b[43m)\u001b[49m\n",
      "File \u001b[1;32m~\\Desktop\\G-Boun\\cmpe\\lib\\site-packages\\PIL\\Image.py:2317\u001b[0m, in \u001b[0;36mImage.save\u001b[1;34m(self, fp, format, **params)\u001b[0m\n\u001b[0;32m   2314\u001b[0m     filename \u001b[38;5;241m=\u001b[39m fp\u001b[38;5;241m.\u001b[39mname\n\u001b[0;32m   2316\u001b[0m \u001b[38;5;66;03m# may mutate self!\u001b[39;00m\n\u001b[1;32m-> 2317\u001b[0m \u001b[38;5;28;43mself\u001b[39;49m\u001b[38;5;241;43m.\u001b[39;49m\u001b[43m_ensure_mutable\u001b[49m\u001b[43m(\u001b[49m\u001b[43m)\u001b[49m\n\u001b[0;32m   2319\u001b[0m save_all \u001b[38;5;241m=\u001b[39m params\u001b[38;5;241m.\u001b[39mpop(\u001b[38;5;124m\"\u001b[39m\u001b[38;5;124msave_all\u001b[39m\u001b[38;5;124m\"\u001b[39m, \u001b[38;5;28;01mFalse\u001b[39;00m)\n\u001b[0;32m   2320\u001b[0m \u001b[38;5;28mself\u001b[39m\u001b[38;5;241m.\u001b[39mencoderinfo \u001b[38;5;241m=\u001b[39m params\n",
      "File \u001b[1;32m~\\Desktop\\G-Boun\\cmpe\\lib\\site-packages\\PIL\\Image.py:599\u001b[0m, in \u001b[0;36mImage._ensure_mutable\u001b[1;34m(self)\u001b[0m\n\u001b[0;32m    597\u001b[0m \u001b[38;5;28;01mdef\u001b[39;00m \u001b[38;5;21m_ensure_mutable\u001b[39m(\u001b[38;5;28mself\u001b[39m):\n\u001b[0;32m    598\u001b[0m     \u001b[38;5;28;01mif\u001b[39;00m \u001b[38;5;28mself\u001b[39m\u001b[38;5;241m.\u001b[39mreadonly:\n\u001b[1;32m--> 599\u001b[0m         \u001b[38;5;28;43mself\u001b[39;49m\u001b[38;5;241;43m.\u001b[39;49m\u001b[43m_copy\u001b[49m\u001b[43m(\u001b[49m\u001b[43m)\u001b[49m\n\u001b[0;32m    600\u001b[0m     \u001b[38;5;28;01melse\u001b[39;00m:\n\u001b[0;32m    601\u001b[0m         \u001b[38;5;28mself\u001b[39m\u001b[38;5;241m.\u001b[39mload()\n",
      "File \u001b[1;32m~\\Desktop\\G-Boun\\cmpe\\lib\\site-packages\\PIL\\Image.py:592\u001b[0m, in \u001b[0;36mImage._copy\u001b[1;34m(self)\u001b[0m\n\u001b[0;32m    591\u001b[0m \u001b[38;5;28;01mdef\u001b[39;00m \u001b[38;5;21m_copy\u001b[39m(\u001b[38;5;28mself\u001b[39m):\n\u001b[1;32m--> 592\u001b[0m     \u001b[38;5;28;43mself\u001b[39;49m\u001b[38;5;241;43m.\u001b[39;49m\u001b[43mload\u001b[49m\u001b[43m(\u001b[49m\u001b[43m)\u001b[49m\n\u001b[0;32m    593\u001b[0m     \u001b[38;5;28mself\u001b[39m\u001b[38;5;241m.\u001b[39mim \u001b[38;5;241m=\u001b[39m \u001b[38;5;28mself\u001b[39m\u001b[38;5;241m.\u001b[39mim\u001b[38;5;241m.\u001b[39mcopy()\n\u001b[0;32m    594\u001b[0m     \u001b[38;5;28mself\u001b[39m\u001b[38;5;241m.\u001b[39mpyaccess \u001b[38;5;241m=\u001b[39m \u001b[38;5;28;01mNone\u001b[39;00m\n",
      "File \u001b[1;32m~\\Desktop\\G-Boun\\cmpe\\lib\\site-packages\\PIL\\EpsImagePlugin.py:336\u001b[0m, in \u001b[0;36mEpsImageFile.load\u001b[1;34m(self, scale, transparency)\u001b[0m\n\u001b[0;32m    333\u001b[0m \u001b[38;5;28;01mdef\u001b[39;00m \u001b[38;5;21mload\u001b[39m(\u001b[38;5;28mself\u001b[39m, scale\u001b[38;5;241m=\u001b[39m\u001b[38;5;241m1\u001b[39m, transparency\u001b[38;5;241m=\u001b[39m\u001b[38;5;28;01mFalse\u001b[39;00m):\n\u001b[0;32m    334\u001b[0m     \u001b[38;5;66;03m# Load EPS via Ghostscript\u001b[39;00m\n\u001b[0;32m    335\u001b[0m     \u001b[38;5;28;01mif\u001b[39;00m \u001b[38;5;28mself\u001b[39m\u001b[38;5;241m.\u001b[39mtile:\n\u001b[1;32m--> 336\u001b[0m         \u001b[38;5;28mself\u001b[39m\u001b[38;5;241m.\u001b[39mim \u001b[38;5;241m=\u001b[39m \u001b[43mGhostscript\u001b[49m\u001b[43m(\u001b[49m\u001b[38;5;28;43mself\u001b[39;49m\u001b[38;5;241;43m.\u001b[39;49m\u001b[43mtile\u001b[49m\u001b[43m,\u001b[49m\u001b[43m \u001b[49m\u001b[38;5;28;43mself\u001b[39;49m\u001b[38;5;241;43m.\u001b[39;49m\u001b[43msize\u001b[49m\u001b[43m,\u001b[49m\u001b[43m \u001b[49m\u001b[38;5;28;43mself\u001b[39;49m\u001b[38;5;241;43m.\u001b[39;49m\u001b[43mfp\u001b[49m\u001b[43m,\u001b[49m\u001b[43m \u001b[49m\u001b[43mscale\u001b[49m\u001b[43m,\u001b[49m\u001b[43m \u001b[49m\u001b[43mtransparency\u001b[49m\u001b[43m)\u001b[49m\n\u001b[0;32m    337\u001b[0m         \u001b[38;5;28mself\u001b[39m\u001b[38;5;241m.\u001b[39mmode \u001b[38;5;241m=\u001b[39m \u001b[38;5;28mself\u001b[39m\u001b[38;5;241m.\u001b[39mim\u001b[38;5;241m.\u001b[39mmode\n\u001b[0;32m    338\u001b[0m         \u001b[38;5;28mself\u001b[39m\u001b[38;5;241m.\u001b[39m_size \u001b[38;5;241m=\u001b[39m \u001b[38;5;28mself\u001b[39m\u001b[38;5;241m.\u001b[39mim\u001b[38;5;241m.\u001b[39msize\n",
      "File \u001b[1;32m~\\Desktop\\G-Boun\\cmpe\\lib\\site-packages\\PIL\\EpsImagePlugin.py:136\u001b[0m, in \u001b[0;36mGhostscript\u001b[1;34m(tile, size, fp, scale, transparency)\u001b[0m\n\u001b[0;32m    134\u001b[0m \u001b[38;5;28;01mif\u001b[39;00m gs_windows_binary \u001b[38;5;129;01mis\u001b[39;00m \u001b[38;5;129;01mnot\u001b[39;00m \u001b[38;5;28;01mNone\u001b[39;00m:\n\u001b[0;32m    135\u001b[0m     \u001b[38;5;28;01mif\u001b[39;00m \u001b[38;5;129;01mnot\u001b[39;00m gs_windows_binary:\n\u001b[1;32m--> 136\u001b[0m         \u001b[38;5;28;01mraise\u001b[39;00m \u001b[38;5;167;01mOSError\u001b[39;00m(\u001b[38;5;124m\"\u001b[39m\u001b[38;5;124mUnable to locate Ghostscript on paths\u001b[39m\u001b[38;5;124m\"\u001b[39m)\n\u001b[0;32m    137\u001b[0m     command[\u001b[38;5;241m0\u001b[39m] \u001b[38;5;241m=\u001b[39m gs_windows_binary\n\u001b[0;32m    139\u001b[0m \u001b[38;5;66;03m# push data through Ghostscript\u001b[39;00m\n",
      "\u001b[1;31mOSError\u001b[0m: Unable to locate Ghostscript on paths"
     ]
    }
   ],
   "source": [
    "from PIL import Image\n",
    "\n",
    "psimage=Image.open('output.ps')\n",
    "psimage.save('/output.png')"
   ]
  },
  {
   "cell_type": "code",
   "execution_count": null,
   "id": "d37d67a6",
   "metadata": {},
   "outputs": [],
   "source": []
  },
  {
   "cell_type": "code",
   "execution_count": null,
   "id": "6ab3a7d7",
   "metadata": {},
   "outputs": [],
   "source": []
  },
  {
   "cell_type": "code",
   "execution_count": null,
   "id": "0348c0b3",
   "metadata": {},
   "outputs": [],
   "source": []
  },
  {
   "cell_type": "code",
   "execution_count": null,
   "id": "6d9fe502",
   "metadata": {},
   "outputs": [],
   "source": []
  },
  {
   "cell_type": "code",
   "execution_count": null,
   "id": "8f9af7fc",
   "metadata": {},
   "outputs": [],
   "source": []
  },
  {
   "cell_type": "code",
   "execution_count": null,
   "id": "9446ac64",
   "metadata": {},
   "outputs": [],
   "source": [
    "ents = []\n",
    "for terminal in terminals:\n",
    "    ents.append({\"start\" : terminal.span[0], \n",
    "                 \"end\"   : terminal.span[1], \n",
    "                 \"label\" : terminal.tag })"
   ]
  },
  {
   "cell_type": "code",
   "execution_count": null,
   "id": "ab153f81",
   "metadata": {},
   "outputs": [],
   "source": [
    "doc = {\"text\" : sentence, \"ents\" : ents}"
   ]
  },
  {
   "cell_type": "code",
   "execution_count": null,
   "id": "7b5ee34d",
   "metadata": {},
   "outputs": [],
   "source": [
    "displacy.render(doc, \n",
    "                style = \"ent\",\n",
    "                manual = True,\n",
    "               )"
   ]
  },
  {
   "cell_type": "code",
   "execution_count": null,
   "id": "6b12761f",
   "metadata": {},
   "outputs": [],
   "source": [
    "def get_nodes(node):\n",
    "    if node.terminal:\n",
    "        return [node]\n",
    "\n",
    "    return [node] + get_nodes(node.child1) + get_nodes(node.child2)\n",
    "\n",
    "ents = []\n",
    "for node in get_nodes(parser.get_tree()):\n",
    "    ents.append({\"start_token\" : node.token_range[0], \n",
    "                 \"end_token\"   : node.token_range[1]+1, \n",
    "                 \"label\" : node.tag})\n",
    "ents.reverse()\n",
    "doc = {\"text\" : sentence, \"spans\" : ents, \"tokens\" : parser.tokens}\n",
    "displacy.render(doc, \n",
    "                style = \"span\", \n",
    "                manual = True,\n",
    "               )"
   ]
  },
  {
   "cell_type": "code",
   "execution_count": null,
   "id": "1e5871ed",
   "metadata": {},
   "outputs": [],
   "source": [
    "from pathlib import Path\n",
    "\n",
    "svg = displacy.render(doc, style=\"span\", manual=True, jupyter=False)\n",
    "file_name = \"_\".join(parser.tokens) + \".svg\"\n",
    "with open(file_name, 'w', encoding=\"utf-8\") as f:\n",
    "    f.write(svg)"
   ]
  },
  {
   "cell_type": "code",
   "execution_count": null,
   "id": "c0818bbb",
   "metadata": {},
   "outputs": [],
   "source": [
    "with open(\"tr_dependency_parser/grammar/grammar.txt\", \"r\") as f:\n",
    "    lines = f.readlines()\n",
    "    \n",
    "nonterm = set([line.split(\" ->\")[0] if \"#\" not in line else \"\" for line in lines])"
   ]
  },
  {
   "cell_type": "code",
   "execution_count": null,
   "id": "abe2a9f5",
   "metadata": {},
   "outputs": [],
   "source": [
    "color_dict = {\n",
    "    \"NP\" : \"turquoise\",\n",
    "    \"PRO\" : \"palevioletred\",\n",
    "    \"ADJ\" : \"lime\",\n",
    "    \"VP\" : \"lightpink\",\n",
    "    \"ADV\" : \"khaki\",\n",
    "    \"POSTP\" : \"cornflowerblue\",\n",
    "    \"SG\" : \"tomato\",\n",
    "    \"S\" : \"tomato\",\n",
    "    \"DET\" : \"limegreen\",\n",
    "    \"DAT\" : \"limegreen\",\n",
    "    \"NUM\" : \"salmon\",\n",
    "    \"Q\" : \"y\",\n",
    "    \"GENITIVE\" : \"green\"\n",
    "}\n",
    "\n",
    "colors = {}\n",
    "for nont in nonterm:\n",
    "    colors[nont] = None\n",
    "    for key in color_dict.keys():\n",
    "        if key in nont:\n",
    "            colors[nont] = color_dict[key]\n",
    "            break"
   ]
  },
  {
   "cell_type": "code",
   "execution_count": null,
   "id": "001aa3ef",
   "metadata": {},
   "outputs": [],
   "source": [
    "options = {\"ents\" : nonterm, \"colors\" : colors}\n",
    "displacy.render(doc, \n",
    "                style = \"span\",\n",
    "                options = options, \n",
    "                manual = True,\n",
    "               )"
   ]
  },
  {
   "cell_type": "code",
   "execution_count": null,
   "id": "4fb765b8",
   "metadata": {},
   "outputs": [],
   "source": []
  }
 ],
 "metadata": {
  "kernelspec": {
   "display_name": "Python 3 (ipykernel)",
   "language": "python",
   "name": "python3"
  },
  "language_info": {
   "codemirror_mode": {
    "name": "ipython",
    "version": 3
   },
   "file_extension": ".py",
   "mimetype": "text/x-python",
   "name": "python",
   "nbconvert_exporter": "python",
   "pygments_lexer": "ipython3",
   "version": "3.9.12"
  }
 },
 "nbformat": 4,
 "nbformat_minor": 5
}
