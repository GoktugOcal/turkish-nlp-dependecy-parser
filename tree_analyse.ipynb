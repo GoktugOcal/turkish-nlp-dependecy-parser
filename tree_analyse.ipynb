{
 "cells": [
  {
   "cell_type": "code",
   "execution_count": 1,
   "id": "0303f094",
   "metadata": {},
   "outputs": [],
   "source": [
    "import numpy as np\n",
    "import pandas as pd\n",
    "import conllu"
   ]
  },
  {
   "cell_type": "code",
   "execution_count": 2,
   "id": "e98cf6e2",
   "metadata": {},
   "outputs": [],
   "source": [
    "data_raw = open('data/corpus/UD_Turkish-Penn/tr_penn-ud-train.conllu', 'r', encoding=\"utf-8\").read()"
   ]
  },
  {
   "cell_type": "code",
   "execution_count": 3,
   "id": "e7d93cde",
   "metadata": {},
   "outputs": [],
   "source": [
    "sentences = conllu.parse(data_raw)"
   ]
  },
  {
   "cell_type": "code",
   "execution_count": 9,
   "id": "51a77129",
   "metadata": {},
   "outputs": [
    {
     "data": {
      "text/plain": [
       "TokenTree<token={id=4, form=oynuyor}, children=[...]>"
      ]
     },
     "execution_count": 9,
     "metadata": {},
     "output_type": "execute_result"
    }
   ],
   "source": [
    "sentences[0].to_tree()"
   ]
  },
  {
   "cell_type": "code",
   "execution_count": 12,
   "id": "abeeaaa3",
   "metadata": {},
   "outputs": [],
   "source": [
    "trees = conllu.parse_tree(data_raw)"
   ]
  },
  {
   "cell_type": "code",
   "execution_count": 16,
   "id": "71ab56f2",
   "metadata": {},
   "outputs": [
    {
     "name": "stdout",
     "output_type": "stream",
     "text": [
      "(deprel:root) form:oynuyor lemma:oyna upos:VERB [4]\n",
      "    (deprel:nsubj) form:Haag lemma:haag upos:PROPN [2]\n",
      "        (deprel:nmod) form:Bayan lemma:bayan upos:NOUN [1]\n",
      "    (deprel:obj) form:Elianti lemma:elianti upos:PROPN [3]\n",
      "    (deprel:punct) form:. lemma:. upos:PUNCT [5]\n"
     ]
    }
   ],
   "source": [
    "trees[0].print_tree()"
   ]
  },
  {
   "cell_type": "code",
   "execution_count": null,
   "id": "28a752f4",
   "metadata": {},
   "outputs": [],
   "source": []
  }
 ],
 "metadata": {
  "kernelspec": {
   "display_name": "Python 3 (ipykernel)",
   "language": "python",
   "name": "python3"
  },
  "language_info": {
   "codemirror_mode": {
    "name": "ipython",
    "version": 3
   },
   "file_extension": ".py",
   "mimetype": "text/x-python",
   "name": "python",
   "nbconvert_exporter": "python",
   "pygments_lexer": "ipython3",
   "version": "3.10.6"
  }
 },
 "nbformat": 4,
 "nbformat_minor": 5
}
