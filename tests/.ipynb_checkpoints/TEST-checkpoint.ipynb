{
 "cells": [
  {
   "cell_type": "code",
   "execution_count": 1,
   "id": "88ab80a1",
   "metadata": {},
   "outputs": [],
   "source": [
    "import plotly.io as pio\n",
    "pio.kaleido.scope.default_width = 1920/2\n",
    "pio.kaleido.scope.default_height = 1080/2\n",
    "from html2image import Html2Image\n",
    "hti = Html2Image(\n",
    "output_path = \"./img/ent/\")\n",
    "\n",
    "head = '''<?xml version=\"1.0\" encoding=\"utf-8\"?><!DOCTYPE html PUBLIC \"-//W3C//DTD XHTML 1.0 Transitional//EN\" \"http://www.w3.org/TR/xhtml1/DTD/xhtml1-transitional.dtd\"><html dir=\"rtl\" xmlns=\"http://www.w3.org/1999/xhtml\">'''"
   ]
  },
  {
   "cell_type": "code",
   "execution_count": 2,
   "id": "39dfd248",
   "metadata": {
    "scrolled": false
   },
   "outputs": [
    {
     "name": "stdout",
     "output_type": "stream",
     "text": [
      "#8dd3c7\n",
      "#ffffb3\n",
      "#bebada\n",
      "#fb8072\n",
      "#80b1d3\n",
      "#fdb462\n",
      "#b3de69\n",
      "#fccde5\n",
      "#d9d9d9\n",
      "#bc80bd\n",
      "#ccebc5\n",
      "#ffed6f\n"
     ]
    }
   ],
   "source": [
    "from matplotlib import cm\n",
    "import matplotlib\n",
    "for rgb in matplotlib.colormaps[\"Set3\"].colors:\n",
    "    print(matplotlib.colors.rgb2hex(rgb))"
   ]
  },
  {
   "cell_type": "code",
   "execution_count": 3,
   "id": "74a883e4",
   "metadata": {},
   "outputs": [
    {
     "data": {
      "image/png": "[encoded data removed]",
      "text/html": [
       "<div style=\"vertical-align: middle;\"><strong>Set3</strong> </div><div class=\"cmap\"><img alt=\"Set3 colormap\" title=\"Set3\" style=\"border: 1px solid #555;\" src=\"data:image/png;base64,iVBORw0KGgoAAAANSUhEUgAAAgAAAABACAYAAABsv8+/AAAAE3RFWHRUaXRsZQBTZXQzIGNvbG9ybWFwH1kXwQAAABl0RVh0RGVzY3JpcHRpb24AU2V0MyBjb2xvcm1hcJTrh1kAAAAwdEVYdEF1dGhvcgBNYXRwbG90bGliIHYzLjYuMiwgaHR0cHM6Ly9tYXRwbG90bGliLm9yZ3HOVV8AAAAydEVYdFNvZnR3YXJlAE1hdHBsb3RsaWIgdjMuNi4yLCBodHRwczovL21hdHBsb3RsaWIub3JnX2jKeAAAAYxJREFUeJzt1i0yKGAYQGE/gSDYhRmjGNkCLEPWZKJoVDu4MxZwi6CxAFkimrlFd7fwJe+Y8zwrOPFs3r6+fG/8EpdHn9MJy54eD6YTlpw+308nLLs5Pp9OWHK9fTedsOzv4c50wrKzf1fTCUve9r6mE5a9//mYTliyf7E7nbDsZOthOmHZ1nQAAPDzDAAABBkAAAgyAAAQZAAAIMgAAECQAQCAIAMAAEEGAACCDAAABBkAAAgyAAAQZAAAIMgAAECQAQCAIAMAAEEGAACCDAAABBkAAAgyAAAQZAAAIMgAAECQAQCAIAMAAEEGAACCDAAABBkAAAgyAAAQZAAAIMgAAECQAQCAIAMAAEEGAACCDAAABBkAAAgyAAAQZAAAIMgAAECQAQCAIAMAAEEGAACCDAAABBkAAAgyAAAQZAAAIMgAAECQAQCAIAMAAEEGAACCDAAABBkAAAgyAAAQZAAAIMgAAECQAQCAIAMAAEEGAACCDAAABBkAAAgyAAAQZAAAIMgAAECQAQCAoP/vpRLaXUZaWQAAAABJRU5ErkJggg==\"></div><div style=\"vertical-align: middle; max-width: 514px; display: flex; justify-content: space-between;\"><div style=\"float: left;\"><div title=\"#8dd3c7ff\" style=\"display: inline-block; width: 1em; height: 1em; margin: 0; vertical-align: middle; border: 1px solid #555; background-color: #8dd3c7ff;\"></div> under</div><div style=\"margin: 0 auto; display: inline-block;\">bad <div title=\"#00000000\" style=\"display: inline-block; width: 1em; height: 1em; margin: 0; vertical-align: middle; border: 1px solid #555; background-color: #00000000;\"></div></div><div style=\"float: right;\">over <div title=\"#ffed6fff\" style=\"display: inline-block; width: 1em; height: 1em; margin: 0; vertical-align: middle; border: 1px solid #555; background-color: #ffed6fff;\"></div></div>"
      ],
      "text/plain": [
       "<matplotlib.colors.ListedColormap at 0x7f8e3466a1d0>"
      ]
     },
     "execution_count": 3,
     "metadata": {},
     "output_type": "execute_result"
    }
   ],
   "source": [
    "matplotlib.colormaps[\"Set3\"]"
   ]
  },
  {
   "cell_type": "code",
   "execution_count": 12,
   "id": "b92775f1",
   "metadata": {},
   "outputs": [
    {
     "ename": "FileNotFoundError",
     "evalue": "[Errno 2] No such file or directory: 'tr_syntactic_parser/grammar/grammar.txt'",
     "output_type": "error",
     "traceback": [
      "\u001b[0;31m---------------------------------------------------------------------------\u001b[0m",
      "\u001b[0;31mFileNotFoundError\u001b[0m                         Traceback (most recent call last)",
      "Cell \u001b[0;32mIn [12], line 24\u001b[0m\n\u001b[1;32m     22\u001b[0m DEBUG \u001b[38;5;241m=\u001b[39m \u001b[38;5;28;01mTrue\u001b[39;00m\n\u001b[1;32m     23\u001b[0m filename \u001b[38;5;241m=\u001b[39m \u001b[38;5;124m\"\u001b[39m\u001b[38;5;124mtr_syntactic_parser/grammar/grammar.txt\u001b[39m\u001b[38;5;124m\"\u001b[39m\n\u001b[0;32m---> 24\u001b[0m parser \u001b[38;5;241m=\u001b[39m \u001b[43mTurkishCKYParser\u001b[49m\u001b[43m(\u001b[49m\u001b[43mfilename\u001b[49m\u001b[43m,\u001b[49m\u001b[43m \u001b[49m\u001b[43mDEBUG\u001b[49m\u001b[43m \u001b[49m\u001b[38;5;241;43m=\u001b[39;49m\u001b[43m \u001b[49m\u001b[43mDEBUG\u001b[49m\u001b[43m)\u001b[49m\n",
      "File \u001b[0;32m~/Desktop/boun/turkish-nlp-dependecy-parser/playground/../tr_syntactic_parser/tr_parser.py:31\u001b[0m, in \u001b[0;36mTurkishCKYParser.__init__\u001b[0;34m(self, filename, DEBUG)\u001b[0m\n\u001b[1;32m     29\u001b[0m \u001b[38;5;28;01mdef\u001b[39;00m \u001b[38;5;21m__init__\u001b[39m(\u001b[38;5;28mself\u001b[39m, filename, DEBUG\u001b[38;5;241m=\u001b[39m\u001b[38;5;28;01mFalse\u001b[39;00m):\n\u001b[1;32m     30\u001b[0m     \u001b[38;5;28mself\u001b[39m\u001b[38;5;241m.\u001b[39mDEBUG \u001b[38;5;241m=\u001b[39m DEBUG\n\u001b[0;32m---> 31\u001b[0m     cg \u001b[38;5;241m=\u001b[39m \u001b[43mGrammarConverter\u001b[49m\u001b[43m(\u001b[49m\u001b[43mfilename\u001b[49m\u001b[43m)\u001b[49m\n\u001b[1;32m     32\u001b[0m     \u001b[38;5;66;03m# cnf = np.unique(np.array(cg.convert_grammar(), dtype = object)).tolist()\u001b[39;00m\n\u001b[1;32m     33\u001b[0m     cnf \u001b[38;5;241m=\u001b[39m cg\u001b[38;5;241m.\u001b[39mconvert_grammar()\n",
      "File \u001b[0;32m~/Desktop/boun/turkish-nlp-dependecy-parser/playground/../tr_syntactic_parser/grammar_converter.py:5\u001b[0m, in \u001b[0;36mGrammarConverter.__init__\u001b[0;34m(self, CFG)\u001b[0m\n\u001b[1;32m      4\u001b[0m \u001b[38;5;28;01mdef\u001b[39;00m \u001b[38;5;21m__init__\u001b[39m(\u001b[38;5;28mself\u001b[39m, CFG):\n\u001b[0;32m----> 5\u001b[0m     \u001b[38;5;28;01mwith\u001b[39;00m \u001b[38;5;28;43mopen\u001b[39;49m\u001b[43m(\u001b[49m\u001b[43mCFG\u001b[49m\u001b[43m,\u001b[49m\u001b[43m \u001b[49m\u001b[43mencoding\u001b[49m\u001b[43m \u001b[49m\u001b[38;5;241;43m=\u001b[39;49m\u001b[43m \u001b[49m\u001b[38;5;124;43m'\u001b[39;49m\u001b[38;5;124;43mutf-8\u001b[39;49m\u001b[38;5;124;43m'\u001b[39;49m\u001b[43m)\u001b[49m \u001b[38;5;28;01mas\u001b[39;00m cfg:\n\u001b[1;32m      6\u001b[0m         lines \u001b[38;5;241m=\u001b[39m cfg\u001b[38;5;241m.\u001b[39mreadlines() \u001b[38;5;66;03m# first line is dedicated for list of non-terminals\u001b[39;00m\n\u001b[1;32m      7\u001b[0m     CFG \u001b[38;5;241m=\u001b[39m [x\u001b[38;5;241m.\u001b[39mreplace(\u001b[38;5;124m\"\u001b[39m\u001b[38;5;124m ->\u001b[39m\u001b[38;5;124m\"\u001b[39m, \u001b[38;5;124m\"\u001b[39m\u001b[38;5;124m\"\u001b[39m)\u001b[38;5;241m.\u001b[39msplit() \u001b[38;5;28;01mfor\u001b[39;00m x \u001b[38;5;129;01min\u001b[39;00m lines[\u001b[38;5;241m1\u001b[39m:]]\n",
      "\u001b[0;31mFileNotFoundError\u001b[0m: [Errno 2] No such file or directory: 'tr_syntactic_parser/grammar/grammar.txt'"
     ]
    }
   ],
   "source": [
    "import os\n",
    "# setting path\n",
    "os.chdir('../')\n",
    "\n",
    "import numpy as np\n",
    "import pandas as pd\n",
    "import conllu\n",
    "import zeyrek\n",
    "import nltk\n",
    "from tqdm import tqdm\n",
    "\n",
    "from tr_syntactic_parser.tr_parser import TurkishCKYParser\n",
    "from tr_syntactic_parser.tools.helper import *\n",
    "from tr_syntactic_parser.tools.visualizer import parse_visualizer\n",
    "\n",
    "import spacy\n",
    "from spacy import displacy\n",
    "\n",
    "import warnings\n",
    "warnings.filterwarnings(\"ignore\")\n",
    "\n",
    "DEBUG = True\n",
    "filename = \"tr_syntactic_parser/grammar/grammar.txt\"\n",
    "parser = TurkishCKYParser(filename, DEBUG = DEBUG)"
   ]
  },
  {
   "cell_type": "code",
   "execution_count": 5,
   "id": "354c8c48",
   "metadata": {},
   "outputs": [],
   "source": [
    "test = [\"Dün arkadaşıma bir hediye aldım\",\n",
    "    \"Tarihi romanları keyifle okuyorum\",\n",
    "    \"Ben dün akşam yemeği için anneme yardım ettim\", ######### !!!!!!!!!\n",
    "    \"Destanlar milli kültürümüzü ve tarihimizi anlatır\", ######### ??\n",
    "    \"Yaz meyvelerinden karpuz bence en güzel meyvedir\",\n",
    "    \"Bu akşamki toplantıya katılacak mısınız\",\n",
    "    \"Bu ağacın altında her gece mehtabı izlerdik\",  ######### !!!!!!!!!\n",
    "    \"Siz buraya en son ne zaman geldiniz\",\n",
    "    \"Okul bizim köye epeyce uzaktaydı\",\n",
    "    \"Yüksek sesle müzik dinleme\"]"
   ]
  },
  {
   "cell_type": "code",
   "execution_count": 6,
   "id": "2fb4d58c",
   "metadata": {},
   "outputs": [
    {
     "name": "stderr",
     "output_type": "stream",
     "text": [
      "APPENDING RESULT: <(arkadaş_Noun)(-)(arkadaş:noun_S + a3sg_S + ım:p1sg_S + a:dat_ST)>\n"
     ]
    },
    {
     "name": "stdout",
     "output_type": "stream",
     "text": [
      "Tokens : ['dün', 'arkadaşıma', 'bir', 'hediye', 'aldım']\n",
      "POS Tags : [['PASTNOUN'], ['DAT'], ['SG'], ['NP'], ['VPPAST1']]\n",
      "Sentence is grammatically correct.\n",
      "(S(PASTNOUN dün ) (VPPAST1(DAT arkadaşıma ) (VPPAST1(NP(SG bir ) (NP hediye ) )(VPPAST1 aldım ) )))\tScore : 23172.44\n",
      "\n",
      "######### CKY CHART #########\n",
      "------------  ----------  ------  ------  ----------------\n",
      "dün           arkadaşıma  bir     hediye  aldım\n",
      "['PASTNOUN']  []          []      []      ['S', 'VPPAST1']\n",
      "[]            ['DAT']     []      []      ['VPPAST1']\n",
      "[]            []          ['SG']  ['NP']  ['S', 'VPPAST1']\n",
      "[]            []          []      ['NP']  ['S', 'VPPAST1']\n",
      "[]            []          []      []      ['VPPAST1']\n",
      "------------  ----------  ------  ------  ----------------\n",
      "##### BEST SENTENCE STRUCTURE #####\n",
      "(S(PASTNOUN dün ) (VPPAST1(DAT arkadaşıma ) (VPPAST1(NP(SG bir ) (NP hediye ) )(VPPAST1 aldım ) )))\n",
      "\n"
     ]
    }
   ],
   "source": [
    "sentence = test[0]\n",
    "sentence = preprocess(sentence)\n",
    "parser.parse(sentence)\n",
    "parser.show_cky_chart()\n",
    "print(\"##### BEST SENTENCE STRUCTURE #####\")\n",
    "parser.show_sentence_structure()\n",
    "print()"
   ]
  },
  {
   "cell_type": "code",
   "execution_count": 7,
   "id": "ed772f32",
   "metadata": {},
   "outputs": [],
   "source": [
    "terminals = parser.get_terminal_nodes(parser.get_tree())"
   ]
  },
  {
   "cell_type": "code",
   "execution_count": 8,
   "id": "75099924",
   "metadata": {},
   "outputs": [
    {
     "ename": "FileNotFoundError",
     "evalue": "[Errno 2] No such file or directory: 'tr_syntactic_parser/grammar/grammar.txt'",
     "output_type": "error",
     "traceback": [
      "\u001b[0;31m---------------------------------------------------------------------------\u001b[0m",
      "\u001b[0;31mFileNotFoundError\u001b[0m                         Traceback (most recent call last)",
      "Cell \u001b[0;32mIn [8], line 1\u001b[0m\n\u001b[0;32m----> 1\u001b[0m visualizer \u001b[38;5;241m=\u001b[39m \u001b[43mparse_visualizer\u001b[49m\u001b[43m(\u001b[49m\u001b[43m)\u001b[49m\n\u001b[1;32m      2\u001b[0m visualizer\u001b[38;5;241m.\u001b[39mpos_vis(sentence, terminals)\n",
      "File \u001b[0;32m~/Desktop/boun/turkish-nlp-dependecy-parser/playground/../tr_syntactic_parser/tools/visualizer.py:7\u001b[0m, in \u001b[0;36mparse_visualizer.__init__\u001b[0;34m(self)\u001b[0m\n\u001b[1;32m      6\u001b[0m \u001b[38;5;28;01mdef\u001b[39;00m \u001b[38;5;21m__init__\u001b[39m(\u001b[38;5;28mself\u001b[39m):\n\u001b[0;32m----> 7\u001b[0m     \u001b[38;5;28;01mwith\u001b[39;00m \u001b[38;5;28;43mopen\u001b[39;49m\u001b[43m(\u001b[49m\u001b[38;5;124;43m\"\u001b[39;49m\u001b[38;5;124;43mtr_syntactic_parser/grammar/grammar.txt\u001b[39;49m\u001b[38;5;124;43m\"\u001b[39;49m\u001b[43m,\u001b[49m\u001b[43m \u001b[49m\u001b[38;5;124;43m\"\u001b[39;49m\u001b[38;5;124;43mr\u001b[39;49m\u001b[38;5;124;43m\"\u001b[39;49m\u001b[43m)\u001b[49m \u001b[38;5;28;01mas\u001b[39;00m f:\n\u001b[1;32m      8\u001b[0m         lines \u001b[38;5;241m=\u001b[39m f\u001b[38;5;241m.\u001b[39mreadlines()\n\u001b[1;32m     10\u001b[0m     nonterm \u001b[38;5;241m=\u001b[39m \u001b[38;5;28mset\u001b[39m([line\u001b[38;5;241m.\u001b[39msplit(\u001b[38;5;124m\"\u001b[39m\u001b[38;5;124m ->\u001b[39m\u001b[38;5;124m\"\u001b[39m)[\u001b[38;5;241m0\u001b[39m] \u001b[38;5;28;01mif\u001b[39;00m \u001b[38;5;124m\"\u001b[39m\u001b[38;5;124m#\u001b[39m\u001b[38;5;124m\"\u001b[39m \u001b[38;5;129;01mnot\u001b[39;00m \u001b[38;5;129;01min\u001b[39;00m line \u001b[38;5;28;01melse\u001b[39;00m \u001b[38;5;124m\"\u001b[39m\u001b[38;5;124m\"\u001b[39m \u001b[38;5;28;01mfor\u001b[39;00m line \u001b[38;5;129;01min\u001b[39;00m lines])\n",
      "\u001b[0;31mFileNotFoundError\u001b[0m: [Errno 2] No such file or directory: 'tr_syntactic_parser/grammar/grammar.txt'"
     ]
    }
   ],
   "source": [
    "visualizer = parse_visualizer()\n",
    "visualizer.pos_vis(sentence, terminals)"
   ]
  },
  {
   "cell_type": "code",
   "execution_count": null,
   "id": "2b17ae73",
   "metadata": {},
   "outputs": [],
   "source": [
    "# from pathlib import Path\n",
    "# output_path = Path(\"./dependency_plot.svg\")\n",
    "# output_path.open(\"w\", encoding=\"utf-8\").write(svg)\n",
    "\n",
    "# open(\"./dependency_plot.svg\", \"w\", encoding=\"utf-8\").write(head + svg + \"</html>\")"
   ]
  },
  {
   "cell_type": "code",
   "execution_count": null,
   "id": "793c4601",
   "metadata": {},
   "outputs": [],
   "source": [
    "# head + svg + \"</html>\""
   ]
  },
  {
   "cell_type": "code",
   "execution_count": null,
   "id": "5cc5342a",
   "metadata": {},
   "outputs": [],
   "source": [
    "# from html2image import Html2Image\n",
    "# hti = Html2Image()\n",
    "\n",
    "# hti.screenshot(html_str=svg, save_as='page.png')"
   ]
  },
  {
   "cell_type": "code",
   "execution_count": null,
   "id": "0eb0dddd",
   "metadata": {},
   "outputs": [],
   "source": [
    "# hti.screenshot(other_file='dependency_plot.svg', size=(1080, 40))"
   ]
  },
  {
   "cell_type": "code",
   "execution_count": null,
   "id": "061f3573",
   "metadata": {},
   "outputs": [],
   "source": []
  },
  {
   "cell_type": "code",
   "execution_count": null,
   "id": "b73d44a4",
   "metadata": {},
   "outputs": [],
   "source": []
  },
  {
   "cell_type": "code",
   "execution_count": null,
   "id": "f5a17f4b",
   "metadata": {},
   "outputs": [],
   "source": []
  },
  {
   "cell_type": "code",
   "execution_count": null,
   "id": "d865ed36",
   "metadata": {},
   "outputs": [],
   "source": [
    "visualizer.pos_tree_vis(sentence, parser.tokens, parser.get_tree())"
   ]
  },
  {
   "cell_type": "code",
   "execution_count": null,
   "id": "e2cecfd7",
   "metadata": {},
   "outputs": [],
   "source": [
    "visualizer.tree_vis(sentence, parser.tokens, parser.get_tree()).write_image(\"fig1.png\")"
   ]
  },
  {
   "cell_type": "code",
   "execution_count": null,
   "id": "b7582d3e",
   "metadata": {
    "scrolled": true
   },
   "outputs": [],
   "source": [
    "import logging\n",
    "logger = logging.getLogger()\n",
    "logger.propagate = False\n",
    "\n",
    "for sentence in test:\n",
    "    sentence = preprocess(sentence)\n",
    "    parser.parse(sentence)\n",
    "    parser.show_cky_chart()\n",
    "    print(\"##### BEST SENTENCE STRUCTURE #####\")\n",
    "    parser.show_sentence_structure()\n",
    "    terminals = parser.get_terminal_nodes(parser.get_tree())\n",
    "    svg = visualizer.pos_vis(sentence, terminals)\n",
    "    open(\"./img/ent/[ent]\" + unidecode.unidecode(\"_\".join(sentence.split(\" \"))) + \".svg\", \"w\", encoding=\"utf-8\").write(head + svg + \"</html>\")\n",
    "    hti.screenshot(other_file=\"./img/ent/[ent]\" + unidecode.unidecode(\"_\".join(sentence.split(\" \"))) + \".svg\", save_as = \"[ent]\" + unidecode.unidecode(\"_\".join(sentence.split(\" \"))) + \".png\", size=(1080, 40))\n",
    "    visualizer.tree_vis(sentence, parser.tokens, parser.get_tree()).write_image(\"img/trees/[tree]\"+unidecode.unidecode(\"_\".join(sentence.split(\" \")))+\".png\")\n",
    "    print()\n",
    "    print()    \n",
    "    print()    "
   ]
  },
  {
   "cell_type": "code",
   "execution_count": null,
   "id": "2900554a",
   "metadata": {
    "scrolled": true
   },
   "outputs": [],
   "source": [
    "import unidecode\n",
    "for sentence in test:\n",
    "    sentence = preprocess(sentence)\n",
    "    sent = unidecode.unidecode(\"_\".join(sentence.split(\" \")))\n",
    "    print('''\n",
    "        \\\\begin{figure}[h]\n",
    "            \\\\centering\n",
    "            \\\\includegraphics[width = \\\\textwidth]{fig/[ent]''' + sent +'''.png}\n",
    "        \\\\end{figure}''')\n",
    "    print('''\n",
    "        \\\\begin{figure}[h]\n",
    "            \\\\centering\n",
    "            \\\\includegraphics[width = 0.8\\\\textwidth]{fig/[tree]''' + sent +'''.png}\n",
    "        \\\\end{figure}\n",
    "    ''')\n",
    "    \n",
    "    \n",
    "    print(\"##################################################\")"
   ]
  },
  {
   "cell_type": "code",
   "execution_count": null,
   "id": "1d392049",
   "metadata": {},
   "outputs": [],
   "source": [
    "false = [\"Ben arkadaşıma hediye aldın.\",\n",
    "\"Tarihi bir romanlar okudum.\",\n",
    "\"Dün babama yardım edeceğim.\",\n",
    "\"Ben okul gittim.\",\n",
    "\"Ben kitap okundu.\",\n",
    "\"Ben okulda gittim.\"]\n",
    "\n",
    "for sentence in false:\n",
    "    sentence = preprocess(sentence)\n",
    "    parser.parse(sentence)\n",
    "    parser.show_cky_chart()\n",
    "    print(\"##### BEST SENTENCE STRUCTURE #####\")\n",
    "    try:\n",
    "        parser.show_sentence_structure()\n",
    "    except:\n",
    "        pass\n",
    "    \n",
    "    print()\n",
    "    print()    \n",
    "    print()    "
   ]
  }
 ],
 "metadata": {
  "kernelspec": {
   "display_name": "Python 3 (ipykernel)",
   "language": "python",
   "name": "python3"
  },
  "language_info": {
   "codemirror_mode": {
    "name": "ipython",
    "version": 3
   },
   "file_extension": ".py",
   "mimetype": "text/x-python",
   "name": "python",
   "nbconvert_exporter": "python",
   "pygments_lexer": "ipython3",
   "version": "3.10.6"
  }
 },
 "nbformat": 4,
 "nbformat_minor": 5
}
