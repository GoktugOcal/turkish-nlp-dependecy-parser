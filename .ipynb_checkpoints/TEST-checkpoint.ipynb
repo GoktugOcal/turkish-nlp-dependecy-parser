{
 "cells": [
  {
   "cell_type": "code",
   "execution_count": 1,
   "id": "b92775f1",
   "metadata": {},
   "outputs": [],
   "source": [
    "import numpy as np\n",
    "import pandas as pd\n",
    "import conllu\n",
    "import zeyrek\n",
    "import nltk\n",
    "from tqdm import tqdm\n",
    "\n",
    "from tr_dependency_parser.tr_parser import TurkishCKYParser\n",
    "from tr_dependency_parser.tools.helper import *\n",
    "from tr_dependency_parser.tools.visualizer import parse_visualizer\n",
    "\n",
    "import spacy\n",
    "from spacy import displacy\n",
    "\n",
    "DEBUG = True\n",
    "filename = \"tr_dependency_parser/grammar/grammar.txt\"\n",
    "parser = TurkishCKYParser(filename, DEBUG = DEBUG)"
   ]
  },
  {
   "cell_type": "code",
   "execution_count": 2,
   "id": "008de7c9",
   "metadata": {},
   "outputs": [
    {
     "name": "stdout",
     "output_type": "stream",
     "text": [
      "Tokens : ['ben', 'okula', 'geldim']\n",
      "POS Tags : [['PRO1'], ['DAT'], ['VPPAST1']]\n",
      "Sentence is grammatically correct.\n",
      "[_S[_PRO1 ben ][_VPPAST1[_DAT okula ][_VPPAST1 geldim ]]]\n",
      "203.25967199999997\n",
      "\n",
      "######### CKY CHART #########\n",
      "--------  -------  -----------\n",
      "ben       okula    geldim\n",
      "['PRO1']  []       ['S']\n",
      "[]        ['DAT']  ['VPPAST1']\n",
      "[]        []       ['VPPAST1']\n",
      "--------  -------  -----------\n",
      "##### BEST SENTENCE STRUCTURE #####\n",
      "[_S[_PRO1 ben ][_VPPAST1[_DAT okula ][_VPPAST1 geldim ]]]\n",
      "\n"
     ]
    }
   ],
   "source": [
    "sentence = \"Ben okula geldim.\"\n",
    "sentence = preprocess(sentence)\n",
    "parser.parse(sentence)\n",
    "parser.show_cky_chart()\n",
    "print(\"##### BEST SENTENCE STRUCTURE #####\")\n",
    "parser.show_sentence_structure()\n",
    "print()"
   ]
  },
  {
   "cell_type": "code",
   "execution_count": 3,
   "id": "ef03e3f7",
   "metadata": {},
   "outputs": [
    {
     "data": {
      "text/plain": [
       "['ben', 'okula', 'geldim']"
      ]
     },
     "execution_count": 3,
     "metadata": {},
     "output_type": "execute_result"
    }
   ],
   "source": [
    "terminals = parser.get_terminal_nodes(parser.get_tree())\n",
    "[terminal.text for terminal in terminals]"
   ]
  },
  {
   "cell_type": "code",
   "execution_count": 4,
   "id": "f629c014",
   "metadata": {},
   "outputs": [
    {
     "ename": "NameError",
     "evalue": "name 'sentence' is not defined",
     "output_type": "error",
     "traceback": [
      "\u001b[1;31m---------------------------------------------------------------------------\u001b[0m",
      "\u001b[1;31mNameError\u001b[0m                                 Traceback (most recent call last)",
      "Cell \u001b[1;32mIn [4], line 2\u001b[0m\n\u001b[0;32m      1\u001b[0m visualizer \u001b[38;5;241m=\u001b[39m parse_visualizer()\n\u001b[1;32m----> 2\u001b[0m \u001b[43mvisualizer\u001b[49m\u001b[38;5;241;43m.\u001b[39;49m\u001b[43mpos_vis\u001b[49m\u001b[43m(\u001b[49m\u001b[43mterminals\u001b[49m\u001b[43m)\u001b[49m\n",
      "File \u001b[1;32m~\\Desktop\\G-Boun\\NLP\\turkish-nlp-dependecy-parser\\tr_dependency_parser\\tools\\visualizer.py:44\u001b[0m, in \u001b[0;36mparse_visualizer.pos_vis\u001b[1;34m(self, terminals)\u001b[0m\n\u001b[0;32m     39\u001b[0m \u001b[38;5;28;01mfor\u001b[39;00m terminal \u001b[38;5;129;01min\u001b[39;00m terminals:\n\u001b[0;32m     40\u001b[0m     ents\u001b[38;5;241m.\u001b[39mappend({\u001b[38;5;124m\"\u001b[39m\u001b[38;5;124mstart\u001b[39m\u001b[38;5;124m\"\u001b[39m : terminal\u001b[38;5;241m.\u001b[39mspan[\u001b[38;5;241m0\u001b[39m], \n\u001b[0;32m     41\u001b[0m                 \u001b[38;5;124m\"\u001b[39m\u001b[38;5;124mend\u001b[39m\u001b[38;5;124m\"\u001b[39m   : terminal\u001b[38;5;241m.\u001b[39mspan[\u001b[38;5;241m1\u001b[39m], \n\u001b[0;32m     42\u001b[0m                 \u001b[38;5;124m\"\u001b[39m\u001b[38;5;124mlabel\u001b[39m\u001b[38;5;124m\"\u001b[39m : terminal\u001b[38;5;241m.\u001b[39mtag })\n\u001b[1;32m---> 44\u001b[0m doc \u001b[38;5;241m=\u001b[39m {\u001b[38;5;124m\"\u001b[39m\u001b[38;5;124mtext\u001b[39m\u001b[38;5;124m\"\u001b[39m : \u001b[43msentence\u001b[49m, \u001b[38;5;124m\"\u001b[39m\u001b[38;5;124ments\u001b[39m\u001b[38;5;124m\"\u001b[39m : ents}\n\u001b[0;32m     45\u001b[0m \u001b[38;5;28;01mreturn\u001b[39;00m displacy\u001b[38;5;241m.\u001b[39mrender(\n\u001b[0;32m     46\u001b[0m     doc, \n\u001b[0;32m     47\u001b[0m     style \u001b[38;5;241m=\u001b[39m \u001b[38;5;124m\"\u001b[39m\u001b[38;5;124ment\u001b[39m\u001b[38;5;124m\"\u001b[39m,\n\u001b[0;32m     48\u001b[0m     options \u001b[38;5;241m=\u001b[39m \u001b[38;5;28mself\u001b[39m\u001b[38;5;241m.\u001b[39moptions,\n\u001b[0;32m     49\u001b[0m     manual \u001b[38;5;241m=\u001b[39m \u001b[38;5;28;01mTrue\u001b[39;00m,\n\u001b[0;32m     50\u001b[0m )\n",
      "\u001b[1;31mNameError\u001b[0m: name 'sentence' is not defined"
     ]
    }
   ],
   "source": [
    "visualizer = parse_visualizer()\n",
    "visualizer.pos_vis(sentence, terminals)"
   ]
  },
  {
   "cell_type": "code",
   "execution_count": null,
   "id": "909cacf0",
   "metadata": {},
   "outputs": [],
   "source": []
  },
  {
   "cell_type": "code",
   "execution_count": null,
   "id": "21a41267",
   "metadata": {},
   "outputs": [],
   "source": []
  },
  {
   "cell_type": "code",
   "execution_count": null,
   "id": "d912164e",
   "metadata": {},
   "outputs": [],
   "source": []
  },
  {
   "cell_type": "code",
   "execution_count": null,
   "id": "4aa699af",
   "metadata": {},
   "outputs": [],
   "source": [
    "ents = []\n",
    "for terminal in terminals:\n",
    "    ents.append({\"start\" : terminal.span[0], \n",
    "                 \"end\"   : terminal.span[1], \n",
    "                 \"label\" : terminal.tag })"
   ]
  },
  {
   "cell_type": "code",
   "execution_count": null,
   "id": "09c06a0d",
   "metadata": {},
   "outputs": [],
   "source": [
    "doc = {\"text\" : sentence, \"ents\" : ents}"
   ]
  },
  {
   "cell_type": "code",
   "execution_count": null,
   "id": "f18bdcf1",
   "metadata": {},
   "outputs": [],
   "source": [
    "displacy.render(doc, \n",
    "                style = \"ent\",\n",
    "                manual = True,\n",
    "               )"
   ]
  },
  {
   "cell_type": "code",
   "execution_count": null,
   "id": "bd1b98bd",
   "metadata": {},
   "outputs": [],
   "source": [
    "def get_nodes(node):\n",
    "    if node.terminal:\n",
    "        return [node]\n",
    "\n",
    "    return [node] + get_nodes(node.child1) + get_nodes(node.child2)\n",
    "\n",
    "ents = []\n",
    "for node in get_nodes(parser.get_tree()):\n",
    "    ents.append({\"start_token\" : node.token_range[0], \n",
    "                 \"end_token\"   : node.token_range[1]+1, \n",
    "                 \"label\" : node.tag})\n",
    "ents.reverse()\n",
    "doc = {\"text\" : sentence, \"spans\" : ents, \"tokens\" : parser.tokens}\n",
    "displacy.render(doc, \n",
    "                style = \"span\", \n",
    "                manual = True,\n",
    "               )"
   ]
  },
  {
   "cell_type": "code",
   "execution_count": null,
   "id": "d5c7af64",
   "metadata": {},
   "outputs": [],
   "source": [
    "from pathlib import Path\n",
    "\n",
    "svg = displacy.render(doc, style=\"span\", manual=True, jupyter=False)\n",
    "file_name = \"_\".join(parser.tokens) + \".svg\"\n",
    "with open(file_name, 'w', encoding=\"utf-8\") as f:\n",
    "    f.write(svg)"
   ]
  },
  {
   "cell_type": "code",
   "execution_count": null,
   "id": "63fafc38",
   "metadata": {},
   "outputs": [],
   "source": [
    "with open(\"tr_dependency_parser/grammar/grammar.txt\", \"r\") as f:\n",
    "    lines = f.readlines()\n",
    "    \n",
    "nonterm = set([line.split(\" ->\")[0] if \"#\" not in line else \"\" for line in lines])"
   ]
  },
  {
   "cell_type": "code",
   "execution_count": null,
   "id": "77dd9019",
   "metadata": {},
   "outputs": [],
   "source": [
    "color_dict = {\n",
    "    \"NP\" : \"turquoise\",\n",
    "    \"PRO\" : \"palevioletred\",\n",
    "    \"ADJ\" : \"lime\",\n",
    "    \"VP\" : \"lightpink\",\n",
    "    \"ADV\" : \"khaki\",\n",
    "    \"POSTP\" : \"cornflowerblue\",\n",
    "    \"SG\" : \"tomato\",\n",
    "    \"S\" : \"tomato\",\n",
    "    \"DET\" : \"limegreen\",\n",
    "    \"DAT\" : \"limegreen\",\n",
    "    \"NUM\" : \"salmon\",\n",
    "    \"Q\" : \"y\",\n",
    "    \"GENITIVE\" : \"green\"\n",
    "}\n",
    "\n",
    "colors = {}\n",
    "for nont in nonterm:\n",
    "    colors[nont] = None\n",
    "    for key in color_dict.keys():\n",
    "        if key in nont:\n",
    "            colors[nont] = color_dict[key]\n",
    "            break"
   ]
  },
  {
   "cell_type": "code",
   "execution_count": null,
   "id": "9b7feb93",
   "metadata": {},
   "outputs": [],
   "source": [
    "options = {\"ents\" : nonterm, \"colors\" : colors}\n",
    "displacy.render(doc, \n",
    "                style = \"span\",\n",
    "                options = options, \n",
    "                manual = True,\n",
    "               )"
   ]
  },
  {
   "cell_type": "code",
   "execution_count": null,
   "id": "da35afde",
   "metadata": {},
   "outputs": [],
   "source": []
  }
 ],
 "metadata": {
  "kernelspec": {
   "display_name": "Python 3 (ipykernel)",
   "language": "python",
   "name": "python3"
  },
  "language_info": {
   "codemirror_mode": {
    "name": "ipython",
    "version": 3
   },
   "file_extension": ".py",
   "mimetype": "text/x-python",
   "name": "python",
   "nbconvert_exporter": "python",
   "pygments_lexer": "ipython3",
   "version": "3.9.12"
  }
 },
 "nbformat": 4,
 "nbformat_minor": 5
}
