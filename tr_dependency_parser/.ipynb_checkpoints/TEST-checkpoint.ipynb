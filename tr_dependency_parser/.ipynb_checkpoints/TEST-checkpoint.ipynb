{
 "cells": [
  {
   "cell_type": "code",
   "execution_count": 2,
   "id": "b92775f1",
   "metadata": {},
   "outputs": [
    {
     "ename": "FileNotFoundError",
     "evalue": "[Errno 2] No such file or directory: 'tr_dependency_parser/grammar/grammar_all.txt'",
     "output_type": "error",
     "traceback": [
      "\u001b[1;31m---------------------------------------------------------------------------\u001b[0m",
      "\u001b[1;31mFileNotFoundError\u001b[0m                         Traceback (most recent call last)",
      "Cell \u001b[1;32mIn [2], line 12\u001b[0m\n\u001b[0;32m     10\u001b[0m DEBUG \u001b[38;5;241m=\u001b[39m \u001b[38;5;28;01mTrue\u001b[39;00m\n\u001b[0;32m     11\u001b[0m filename \u001b[38;5;241m=\u001b[39m \u001b[38;5;124m\"\u001b[39m\u001b[38;5;124mtr_dependency_parser/grammar/grammar_all.txt\u001b[39m\u001b[38;5;124m\"\u001b[39m\n\u001b[1;32m---> 12\u001b[0m parser \u001b[38;5;241m=\u001b[39m \u001b[43mTurkishCKYParser\u001b[49m\u001b[43m(\u001b[49m\u001b[43mfilename\u001b[49m\u001b[43m,\u001b[49m\u001b[43m \u001b[49m\u001b[43mDEBUG\u001b[49m\u001b[43m \u001b[49m\u001b[38;5;241;43m=\u001b[39;49m\u001b[43m \u001b[49m\u001b[43mDEBUG\u001b[49m\u001b[43m)\u001b[49m\n",
      "File \u001b[1;32m~\\Desktop\\G-Boun\\NLP\\turkish-nlp-dependecy-parser\\tr_dependency_parser\\tr_parser.py:34\u001b[0m, in \u001b[0;36mTurkishCKYParser.__init__\u001b[1;34m(self, filename, DEBUG)\u001b[0m\n\u001b[0;32m     32\u001b[0m \u001b[38;5;28;01mdef\u001b[39;00m \u001b[38;5;21m__init__\u001b[39m(\u001b[38;5;28mself\u001b[39m, filename, DEBUG\u001b[38;5;241m=\u001b[39m\u001b[38;5;28;01mFalse\u001b[39;00m):\n\u001b[0;32m     33\u001b[0m     \u001b[38;5;28mself\u001b[39m\u001b[38;5;241m.\u001b[39mDEBUG \u001b[38;5;241m=\u001b[39m DEBUG\n\u001b[1;32m---> 34\u001b[0m     cg \u001b[38;5;241m=\u001b[39m \u001b[43mGrammarConverter\u001b[49m\u001b[43m(\u001b[49m\u001b[43mfilename\u001b[49m\u001b[43m)\u001b[49m\n\u001b[0;32m     35\u001b[0m     \u001b[38;5;66;03m# cnf = np.unique(np.array(cg.convert_grammar(), dtype = object)).tolist()\u001b[39;00m\n\u001b[0;32m     36\u001b[0m     cnf \u001b[38;5;241m=\u001b[39m cg\u001b[38;5;241m.\u001b[39mconvert_grammar()\n",
      "File \u001b[1;32m~\\Desktop\\G-Boun\\NLP\\turkish-nlp-dependecy-parser\\tr_dependency_parser\\grammar_converter.py:5\u001b[0m, in \u001b[0;36mGrammarConverter.__init__\u001b[1;34m(self, CFG)\u001b[0m\n\u001b[0;32m      4\u001b[0m \u001b[38;5;28;01mdef\u001b[39;00m \u001b[38;5;21m__init__\u001b[39m(\u001b[38;5;28mself\u001b[39m, CFG):\n\u001b[1;32m----> 5\u001b[0m     \u001b[38;5;28;01mwith\u001b[39;00m \u001b[38;5;28;43mopen\u001b[39;49m\u001b[43m(\u001b[49m\u001b[43mCFG\u001b[49m\u001b[43m,\u001b[49m\u001b[43m \u001b[49m\u001b[43mencoding\u001b[49m\u001b[43m \u001b[49m\u001b[38;5;241;43m=\u001b[39;49m\u001b[43m \u001b[49m\u001b[38;5;124;43m'\u001b[39;49m\u001b[38;5;124;43mutf-8\u001b[39;49m\u001b[38;5;124;43m'\u001b[39;49m\u001b[43m)\u001b[49m \u001b[38;5;28;01mas\u001b[39;00m cfg:\n\u001b[0;32m      6\u001b[0m         lines \u001b[38;5;241m=\u001b[39m cfg\u001b[38;5;241m.\u001b[39mreadlines() \u001b[38;5;66;03m# first line is dedicated for list of non-terminals\u001b[39;00m\n\u001b[0;32m      7\u001b[0m     CFG \u001b[38;5;241m=\u001b[39m [x\u001b[38;5;241m.\u001b[39mreplace(\u001b[38;5;124m\"\u001b[39m\u001b[38;5;124m ->\u001b[39m\u001b[38;5;124m\"\u001b[39m, \u001b[38;5;124m\"\u001b[39m\u001b[38;5;124m\"\u001b[39m)\u001b[38;5;241m.\u001b[39msplit() \u001b[38;5;28;01mfor\u001b[39;00m x \u001b[38;5;129;01min\u001b[39;00m lines[\u001b[38;5;241m1\u001b[39m:]]\n",
      "\u001b[1;31mFileNotFoundError\u001b[0m: [Errno 2] No such file or directory: 'tr_dependency_parser/grammar/grammar_all.txt'"
     ]
    }
   ],
   "source": [
    "import numpy as np\n",
    "import pandas as pd\n",
    "import conllu\n",
    "import zeyrek\n",
    "import nltk\n",
    "from tqdm import tqdm\n",
    "\n",
    "from tr_parser import TurkishCKYParser\n",
    "\n",
    "DEBUG = True\n",
    "filename = \"tr_dependency_parser/grammar/grammar_all.txt\"\n",
    "parser = TurkishCKYParser(filename, DEBUG = DEBUG)"
   ]
  },
  {
   "cell_type": "code",
   "execution_count": 11,
   "id": "a391bfa5",
   "metadata": {},
   "outputs": [],
   "source": [
    "text = '''\n",
    "Dün arkadaşıma bir hediye aldım\n",
    "Tarihi romanları keyifle okuyorum\n",
    "Ben dün akşam yemeği için anneme yardım ettim\n",
    "Destanlar milli kültürümüzü ve tarihimizi anlatır\n",
    "Yaz meyvelerinden karpuz bence en güzel meyvedir\n",
    "Bu akşamki toplantıya katılacak mısınız\n",
    "Bu ağacın altında her gece mehtabı izlerdik\n",
    "Siz buraya en son ne zaman geldiniz\n",
    "Okul bizim köye epeyce uzaktaydı\n",
    "Yüksek sesle müzik dinleme\n",
    "'''\n",
    "\n",
    "org_tokens = nltk.tokenize.word_tokenize(text)"
   ]
  },
  {
   "cell_type": "code",
   "execution_count": 19,
   "id": "99c977d7",
   "metadata": {},
   "outputs": [],
   "source": [
    "poses = {}\n",
    "for token in org_tokens:\n",
    "    for node in parser.get_pos(token.lower()):\n",
    "        if node.tag in poses.keys(): poses[node.tag].append(token.lower())\n",
    "        else: poses[node.tag] = [token.lower()]"
   ]
  },
  {
   "cell_type": "code",
   "execution_count": 20,
   "id": "7b855f73",
   "metadata": {},
   "outputs": [
    {
     "data": {
      "text/plain": [
       "{'PASTNOUN': ['dün', 'dün'],\n",
       " 'NP': ['arkadaşıma',\n",
       "  'hediye',\n",
       "  'tarihi',\n",
       "  'romanları',\n",
       "  'akşam',\n",
       "  'yemeği',\n",
       "  'anneme',\n",
       "  'yardım',\n",
       "  'destanlar',\n",
       "  'milli',\n",
       "  'kültürümüzü',\n",
       "  'tarihimizi',\n",
       "  'yaz',\n",
       "  'meyvelerinden',\n",
       "  'karpuz',\n",
       "  'bence',\n",
       "  'en',\n",
       "  'güzel',\n",
       "  'toplantıya',\n",
       "  'ağacın',\n",
       "  'altında',\n",
       "  'gece',\n",
       "  'mehtabı',\n",
       "  'buraya',\n",
       "  'en',\n",
       "  'son',\n",
       "  'zaman',\n",
       "  'okul',\n",
       "  'köye',\n",
       "  'yüksek',\n",
       "  'sesle',\n",
       "  'müzik',\n",
       "  'dinleme'],\n",
       " 'ADV': ['bir', 'keyifle', 'bence', 'en', 'güzel', 'gece', 'en', 'epeyce'],\n",
       " 'DET': ['bir', 'her'],\n",
       " 'ADJ': ['bir',\n",
       "  'tarihi',\n",
       "  'milli',\n",
       "  'anlatır',\n",
       "  'güzel',\n",
       "  'akşamki',\n",
       "  'katılacak',\n",
       "  'her',\n",
       "  'son',\n",
       "  'yüksek'],\n",
       " 'NUM': ['bir', 'son'],\n",
       " 'VPPAST1': ['aldım', 'yardım', 'ettim'],\n",
       " 'VPPRE1': ['okuyorum'],\n",
       " 'PRO1': ['ben'],\n",
       " 'POSTP': ['için'],\n",
       " 'CONJ': ['ve'],\n",
       " 'VPIMP': ['yaz', 'sesle', 'dinleme'],\n",
       " 'PRO3': ['bu', 'bu'],\n",
       " 'QUES': ['mısınız'],\n",
       " 'VPPAST1PL': ['izlerdik'],\n",
       " 'PROPL2': ['siz'],\n",
       " 'Q': ['ne'],\n",
       " 'VPPAST2PL': ['geldiniz'],\n",
       " 'PRO': ['bizim'],\n",
       " 'VPPAST3': ['uzaktaydı']}"
      ]
     },
     "execution_count": 20,
     "metadata": {},
     "output_type": "execute_result"
    }
   ],
   "source": [
    "poses"
   ]
  },
  {
   "cell_type": "code",
   "execution_count": null,
   "id": "c5f14beb",
   "metadata": {},
   "outputs": [],
   "source": []
  }
 ],
 "metadata": {
  "kernelspec": {
   "display_name": "Python 3 (ipykernel)",
   "language": "python",
   "name": "python3"
  },
  "language_info": {
   "codemirror_mode": {
    "name": "ipython",
    "version": 3
   },
   "file_extension": ".py",
   "mimetype": "text/x-python",
   "name": "python",
   "nbconvert_exporter": "python",
   "pygments_lexer": "ipython3",
   "version": "3.9.12"
  }
 },
 "nbformat": 4,
 "nbformat_minor": 5
}
